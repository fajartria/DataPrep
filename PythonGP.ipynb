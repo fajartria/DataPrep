{
  "nbformat": 4,
  "nbformat_minor": 0,
  "metadata": {
    "colab": {
      "name": "PythonGP.ipynb",
      "provenance": [],
      "collapsed_sections": [],
      "include_colab_link": true
    },
    "kernelspec": {
      "name": "python3",
      "display_name": "Python 3"
    },
    "language_info": {
      "name": "python"
    }
  },
  "cells": [
    {
      "cell_type": "markdown",
      "metadata": {
        "id": "view-in-github",
        "colab_type": "text"
      },
      "source": [
        "<a href=\"https://colab.research.google.com/github/fajartria/DataPrep/blob/main/PythonGP.ipynb\" target=\"_parent\"><img src=\"https://colab.research.google.com/assets/colab-badge.svg\" alt=\"Open In Colab\"/></a>"
      ]
    },
    {
      "cell_type": "markdown",
      "metadata": {
        "id": "C3kC_6kFoLoN"
      },
      "source": [
        "# Python Group Assignment\n",
        "We will be using this just to collaborate, once everything is ready, we will move them to Jupyter Notebook"
      ]
    },
    {
      "cell_type": "markdown",
      "metadata": {
        "id": "bB1sRdcjCFKQ"
      },
      "source": [
        "## General Workflow\n",
        "### 1) Identifying Business Problem\n",
        "### 2) Data Cleaning and Preparation\n",
        "### 3) Exploratory Data Analysis (EDA)"
      ]
    },
    {
      "cell_type": "markdown",
      "metadata": {
        "id": "TW0sxoVDCUrH"
      },
      "source": [
        "### 1) Identifying Business Problem\n",
        "\n",
        "In this case, we're asked to create a base table. This base table could then be used to create a Machine Learning Model and analysed to gain insight.\n",
        "\n",
        "We will gather the available data and combine them into a single table, the granularity of this table is a client who is an account owner. Once the base table ready, we will also do some Exploratory Data Analysis on the table. A Machine learning model will not be developed since the scope of the work only covers data preparation and analysis."
      ]
    },
    {
      "cell_type": "code",
      "metadata": {
        "id": "qO7M1D0uoG6P"
      },
      "source": [
        "# Import Variables\n",
        "\n",
        "import pandas as pd\n",
        "\n",
        "\n"
      ],
      "execution_count": null,
      "outputs": []
    },
    {
      "cell_type": "code",
      "metadata": {
        "id": "EYvpQwj2pNqI"
      },
      "source": [
        ""
      ],
      "execution_count": null,
      "outputs": []
    }
  ]
}